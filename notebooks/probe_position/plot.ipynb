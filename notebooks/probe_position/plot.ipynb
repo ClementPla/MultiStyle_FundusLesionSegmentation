{
 "cells": [
  {
   "cell_type": "code",
   "execution_count": 1,
   "metadata": {},
   "outputs": [],
   "source": [
    "%load_ext autoreload\n",
    "%autoreload 2"
   ]
  },
  {
   "cell_type": "code",
   "execution_count": 32,
   "metadata": {},
   "outputs": [],
   "source": [
    "import json\n",
    "\n",
    "import matplotlib.pyplot as plt\n",
    "import numpy as np\n",
    "import pandas as pd\n",
    "from adptSeg.adaptation.model_wrapper import FeatureType, ModelFeaturesExtractor\n",
    "from fundseg.utils.checkpoints import load_model_from_checkpoints\n",
    "\n",
    "import wandb"
   ]
  },
  {
   "cell_type": "code",
   "execution_count": 3,
   "metadata": {},
   "outputs": [],
   "source": [
    "api = wandb.Api()\n",
    "runs = api.runs(\"liv4d-polytechnique/Probing-Lesions-Segmentation-Positions\")\n"
   ]
  },
  {
   "cell_type": "code",
   "execution_count": 43,
   "metadata": {},
   "outputs": [
    {
     "name": "stderr",
     "output_type": "stream",
     "text": [
      "\u001b[34m\u001b[1mwandb\u001b[0m:   1 of 1 files downloaded.  \n",
      "\u001b[34m\u001b[1mwandb\u001b[0m:   1 of 1 files downloaded.  \n",
      "\u001b[34m\u001b[1mwandb\u001b[0m:   1 of 1 files downloaded.  \n",
      "\u001b[34m\u001b[1mwandb\u001b[0m:   1 of 1 files downloaded.  \n",
      "\u001b[34m\u001b[1mwandb\u001b[0m:   1 of 1 files downloaded.  \n",
      "\u001b[34m\u001b[1mwandb\u001b[0m:   1 of 1 files downloaded.  \n",
      "\u001b[34m\u001b[1mwandb\u001b[0m:   1 of 1 files downloaded.  \n",
      "\u001b[34m\u001b[1mwandb\u001b[0m:   1 of 1 files downloaded.  \n",
      "\u001b[34m\u001b[1mwandb\u001b[0m:   1 of 1 files downloaded.  \n",
      "\u001b[34m\u001b[1mwandb\u001b[0m:   1 of 1 files downloaded.  \n"
     ]
    }
   ],
   "source": [
    "def get_confMat(df):\n",
    "    pass\n",
    "\n",
    "results = []\n",
    "for r in runs:\n",
    "    ftype = r.config['feature_type']\n",
    "    pos = r.config['position']\n",
    "    table = r.logged_artifacts()[0]\n",
    "    table.download()\n",
    "\n",
    "    table_name = table.name\n",
    "    avg_table_path = r.summary['conf_mat_table']['path']\n",
    "    table_path = f\"artifacts/{table_name}/conf_mat_table.table.json\"\n",
    "    with open(table_path) as f:\n",
    "        data = json.load(f)\n",
    "    df = pd.DataFrame(data[\"data\"], columns=data[\"columns\"])\n",
    "    datasets = df['Actual'].unique()\n",
    "    datasets.sort()\n",
    "    confMat = np.zeros((len(datasets), len(datasets)))\n",
    "    for i, dataset in enumerate(datasets):\n",
    "        for j, dataset2 in enumerate(datasets):\n",
    "            confMat[i, j] = df[(df['Actual'] == dataset) & (df['Predicted'] == dataset2)]['nPredictions'].values[0]\n",
    "\n",
    "    \n",
    "    results.append({\n",
    "        'feature_type': ftype,\n",
    "        'position': pos,\n",
    "        'confMat': confMat,\n",
    "        'datasets': datasets\n",
    "    })\n",
    "\n",
    "results.sort(key=lambda x: x['position'])\n",
    "results.sort(key=lambda x: x['feature_type'])\n"
   ]
  },
  {
   "cell_type": "code",
   "execution_count": 47,
   "metadata": {},
   "outputs": [
    {
     "name": "stdout",
     "output_type": "stream",
     "text": [
      "DECODER 0\n",
      "0.607\n",
      "DECODER 1\n",
      "0.871\n",
      "DECODER 2\n",
      "0.881\n",
      "DECODER 3\n",
      "0.661\n",
      "DECODER 4\n",
      "0.49\n",
      "ENCODER 0\n",
      "0.356\n",
      "ENCODER 1\n",
      "0.563\n",
      "ENCODER 2\n",
      "0.859\n",
      "ENCODER 3\n",
      "0.923\n",
      "ENCODER 4\n",
      "0.925\n"
     ]
    }
   ],
   "source": [
    "for result in results:\n",
    "    print(result['feature_type'], result['position'])\n",
    "    cmat = result['confMat']\n",
    "    accu = np.sum(np.diag(cmat)) / np.sum(cmat)\n",
    "    print(accu, )\n",
    "    "
   ]
  },
  {
   "cell_type": "code",
   "execution_count": 55,
   "metadata": {},
   "outputs": [
    {
     "name": "stdout",
     "output_type": "stream",
     "text": [
      "Test dataset: IDRID\n",
      "Test dataset: FGADR\n",
      "Test dataset: MESSIDOR\n",
      "Test dataset: DDR\n",
      "Test dataset: RETLES\n"
     ]
    }
   ],
   "source": [
    "\n",
    "model = load_model_from_checkpoints(root_directory='../../')"
   ]
  },
  {
   "cell_type": "code",
   "execution_count": 66,
   "metadata": {},
   "outputs": [
    {
     "data": {
      "text/plain": [
       "16"
      ]
     },
     "execution_count": 66,
     "metadata": {},
     "output_type": "execute_result"
    }
   ],
   "source": [
    "featureExtractor = ModelFeaturesExtractor(model, position=4, feature_type=FeatureType.DECODER)\n",
    "featureExtractor.out_chans"
   ]
  },
  {
   "cell_type": "code",
   "execution_count": 57,
   "metadata": {},
   "outputs": [
    {
     "data": {
      "text/plain": [
       "3"
      ]
     },
     "execution_count": 57,
     "metadata": {},
     "output_type": "execute_result"
    }
   ],
   "source": []
  }
 ],
 "metadata": {
  "kernelspec": {
   "display_name": "deeplearning",
   "language": "python",
   "name": "python3"
  },
  "language_info": {
   "codemirror_mode": {
    "name": "ipython",
    "version": 3
   },
   "file_extension": ".py",
   "mimetype": "text/x-python",
   "name": "python",
   "nbconvert_exporter": "python",
   "pygments_lexer": "ipython3",
   "version": "3.12.3"
  }
 },
 "nbformat": 4,
 "nbformat_minor": 2
}
