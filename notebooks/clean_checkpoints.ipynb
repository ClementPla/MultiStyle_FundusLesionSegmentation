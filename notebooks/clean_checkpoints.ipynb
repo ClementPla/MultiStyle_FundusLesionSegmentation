{
 "cells": [
  {
   "cell_type": "code",
   "execution_count": 2,
   "metadata": {},
   "outputs": [],
   "source": [
    "import os\n",
    "import wandb\n",
    "import shutil\n"
   ]
  },
  {
   "cell_type": "code",
   "execution_count": 3,
   "metadata": {},
   "outputs": [],
   "source": [
    "project_name = 'Retinal Lesions Segmentation - V2'\n",
    "checkpoints_root = f'../checkpoints/{project_name}'\n",
    "api = wandb.Api()\n",
    "\n",
    "list_runs = api.runs(f'liv4d-polytechnique/{project_name}')\n",
    "list_checkpoints = os.listdir(checkpoints_root)"
   ]
  },
  {
   "cell_type": "code",
   "execution_count": 4,
   "metadata": {},
   "outputs": [],
   "source": [
    "existing_runs = [run.name for run in list_runs]\n",
    "deletable_checkpoints = [checkpoint for checkpoint in list_checkpoints if checkpoint not in existing_runs]"
   ]
  },
  {
   "cell_type": "code",
   "execution_count": 5,
   "metadata": {},
   "outputs": [],
   "source": [
    "for checkpoint in deletable_checkpoints:\n",
    "    shutil.rmtree(f'{checkpoints_root}/{checkpoint}')\n",
    "    print(f'Deleted checkpoint {checkpoint}')"
   ]
  },
  {
   "cell_type": "code",
   "execution_count": 6,
   "metadata": {},
   "outputs": [
    {
     "data": {
      "text/plain": [
       "'DDR_FGADR_IDRID_MESSIDOR_RETLES'"
      ]
     },
     "execution_count": 6,
     "metadata": {},
     "output_type": "execute_result"
    }
   ],
   "source": [
    "tags = list_runs[0].tags\n",
    "tags.sort()\n",
    "commit_name = '_'.join(tags)\n",
    "commit_name"
   ]
  },
  {
   "cell_type": "code",
   "execution_count": 18,
   "metadata": {},
   "outputs": [
    {
     "data": {
      "text/plain": [
       "{'AUC Precision Recall - IDRID COTTON_WOOL_SPOT': {0: 0.6701094508171082},\n",
       " 'AUC Precision Recall - IDRID EXUDATES': {0: 0.7860875129699707},\n",
       " 'AUC Precision Recall - IDRID HEMORRHAGES': {0: 0.6743975877761841},\n",
       " 'AUC Precision Recall - IDRID MICROANEURYSMS': {0: 0.39846163988113403},\n",
       " 'AUC Precision Recall - FGADR COTTON_WOOL_SPOT': {0: 0.4449217915534973},\n",
       " 'AUC Precision Recall - FGADR EXUDATES': {0: 0.6951484084129333},\n",
       " 'AUC Precision Recall - FGADR HEMORRHAGES': {0: 0.6508341431617737},\n",
       " 'AUC Precision Recall - FGADR MICROANEURYSMS': {0: 0.2895563244819641},\n",
       " 'AUC Precision Recall - MESSIDOR COTTON_WOOL_SPOT': {0: 0.3307325839996338},\n",
       " 'AUC Precision Recall - MESSIDOR EXUDATES': {0: 0.7123324871063232},\n",
       " 'AUC Precision Recall - MESSIDOR HEMORRHAGES': {0: 0.3926454186439514},\n",
       " 'AUC Precision Recall - MESSIDOR MICROANEURYSMS': {0: 0.4098129868507385},\n",
       " 'AUC Precision Recall - DDR COTTON_WOOL_SPOT': {0: 0.5084977746009827},\n",
       " 'AUC Precision Recall - DDR EXUDATES': {0: 0.6117375493049622},\n",
       " 'AUC Precision Recall - DDR HEMORRHAGES': {0: 0.5447860956192017},\n",
       " 'AUC Precision Recall - DDR MICROANEURYSMS': {0: 0.23405438661575317},\n",
       " 'AUC Precision Recall - RETLES COTTON_WOOL_SPOT': {0: 0.5254419445991516},\n",
       " 'AUC Precision Recall - RETLES EXUDATES': {0: 0.7039055824279785},\n",
       " 'AUC Precision Recall - RETLES HEMORRHAGES': {0: 0.5196094512939453},\n",
       " 'AUC Precision Recall - RETLES MICROANEURYSMS': {0: 0.4127877354621887}}"
      ]
     },
     "execution_count": 18,
     "metadata": {},
     "output_type": "execute_result"
    }
   ],
   "source": [
    "from fundseg.data import ALL_CLASSES, ALL_DATASETS\n",
    "all_metrics = [f'AUC Precision Recall - {dataset} {class_name}' for dataset in ALL_DATASETS for class_name in ALL_CLASSES]\n",
    "\n",
    "scores = list_runs[0].history(keys=all_metrics).to_dict()\n",
    "del scores['_step']\n",
    "scores"
   ]
  }
 ],
 "metadata": {
  "kernelspec": {
   "display_name": "deeplearning",
   "language": "python",
   "name": "python3"
  },
  "language_info": {
   "codemirror_mode": {
    "name": "ipython",
    "version": 3
   },
   "file_extension": ".py",
   "mimetype": "text/x-python",
   "name": "python",
   "nbconvert_exporter": "python",
   "pygments_lexer": "ipython3",
   "version": "3.12.3"
  }
 },
 "nbformat": 4,
 "nbformat_minor": 2
}
