{
 "cells": [
  {
   "cell_type": "code",
   "execution_count": 26,
   "id": "578bf779-c9f4-4b1d-a592-515ef6977512",
   "metadata": {},
   "outputs": [],
   "source": [
    "import wandb\n"
   ]
  },
  {
   "cell_type": "code",
   "execution_count": null,
   "id": "3a09a81f-e667-41e0-b368-782426577eb9",
   "metadata": {},
   "outputs": [],
   "source": []
  },
  {
   "cell_type": "code",
   "execution_count": 44,
   "id": "8b7344b0-4101-4578-b97b-c1c0209c9e05",
   "metadata": {},
   "outputs": [
    {
     "name": "stdout",
     "output_type": "stream",
     "text": [
      "LesionNet 4-inception_v3 running\n",
      "LesionNet 32-inception_v3 crashed\n",
      "LesionNet 4-inception_v3 crashed\n"
     ]
    }
   ],
   "source": [
    "api = wandb.Api()\n",
    "project = api.project('Fundus Segmentation - Unit Test')\n",
    "runs  = api.runs(path='/'.join(project.path))\n",
    "for r in runs:\n",
    "    print(r.config['model_name'], r.state)\n",
    "wandb.finish()"
   ]
  },
  {
   "cell_type": "code",
   "execution_count": 47,
   "id": "21cefeff-315b-41e1-bf9d-f414b27c2b01",
   "metadata": {},
   "outputs": [
    {
     "data": {
      "text/html": [
       "Tracking run with wandb version 0.15.9"
      ],
      "text/plain": [
       "<IPython.core.display.HTML object>"
      ]
     },
     "metadata": {},
     "output_type": "display_data"
    },
    {
     "data": {
      "text/html": [
       "Run data is saved locally in <code>/home/clement/Documents/phd/FundusSegmentation/notebooks/wandb/run-20230905_152315-gepubvyb</code>"
      ],
      "text/plain": [
       "<IPython.core.display.HTML object>"
      ]
     },
     "metadata": {},
     "output_type": "display_data"
    },
    {
     "data": {
      "text/html": [
       "Syncing run <strong><a href='https://wandb.ai/liv4d-polytechnique/Retinal%20Lesions%20Segmentation/runs/gepubvyb' target=\"_blank\">fallen-jazz-1</a></strong> to <a href='https://wandb.ai/liv4d-polytechnique/Retinal%20Lesions%20Segmentation' target=\"_blank\">Weights & Biases</a> (<a href='https://wandb.me/run' target=\"_blank\">docs</a>)<br/>"
      ],
      "text/plain": [
       "<IPython.core.display.HTML object>"
      ]
     },
     "metadata": {},
     "output_type": "display_data"
    },
    {
     "data": {
      "text/html": [
       " View project at <a href='https://wandb.ai/liv4d-polytechnique/Retinal%20Lesions%20Segmentation' target=\"_blank\">https://wandb.ai/liv4d-polytechnique/Retinal%20Lesions%20Segmentation</a>"
      ],
      "text/plain": [
       "<IPython.core.display.HTML object>"
      ]
     },
     "metadata": {},
     "output_type": "display_data"
    },
    {
     "data": {
      "text/html": [
       " View run at <a href='https://wandb.ai/liv4d-polytechnique/Retinal%20Lesions%20Segmentation/runs/gepubvyb' target=\"_blank\">https://wandb.ai/liv4d-polytechnique/Retinal%20Lesions%20Segmentation/runs/gepubvyb</a>"
      ],
      "text/plain": [
       "<IPython.core.display.HTML object>"
      ]
     },
     "metadata": {},
     "output_type": "display_data"
    },
    {
     "data": {
      "text/html": [
       "<button onClick=\"this.nextSibling.style.display='block';this.style.display='none';\">Display W&B run</button><iframe src='https://wandb.ai/liv4d-polytechnique/Retinal%20Lesions%20Segmentation/runs/gepubvyb?jupyter=true' style='border:none;width:100%;height:420px;display:none;'></iframe>"
      ],
      "text/plain": [
       "<wandb.sdk.wandb_run.Run at 0x7fb58066acb0>"
      ]
     },
     "execution_count": 47,
     "metadata": {},
     "output_type": "execute_result"
    }
   ],
   "source": [
    "wandb.init(project='Retinal Lesions Segmentation')"
   ]
  },
  {
   "cell_type": "code",
   "execution_count": 46,
   "id": "ad902ec9-266f-4db4-a9d1-714aa26c701c",
   "metadata": {},
   "outputs": [
    {
     "data": {
      "text/html": [
       "Waiting for W&B process to finish... <strong style=\"color:green\">(success).</strong>"
      ],
      "text/plain": [
       "<IPython.core.display.HTML object>"
      ]
     },
     "metadata": {},
     "output_type": "display_data"
    },
    {
     "data": {
      "text/html": [
       " View run <strong style=\"color:#cdcd00\">expert-moon-1</strong> at: <a href='https://wandb.ai/liv4d-polytechnique/uncategorized/runs/f6n521fl' target=\"_blank\">https://wandb.ai/liv4d-polytechnique/uncategorized/runs/f6n521fl</a><br/>Synced 5 W&B file(s), 0 media file(s), 0 artifact file(s) and 0 other file(s)"
      ],
      "text/plain": [
       "<IPython.core.display.HTML object>"
      ]
     },
     "metadata": {},
     "output_type": "display_data"
    },
    {
     "data": {
      "text/html": [
       "Find logs at: <code>./wandb/run-20230905_152211-f6n521fl/logs</code>"
      ],
      "text/plain": [
       "<IPython.core.display.HTML object>"
      ]
     },
     "metadata": {},
     "output_type": "display_data"
    }
   ],
   "source": [
    "wandb.finish()"
   ]
  },
  {
   "cell_type": "code",
   "execution_count": null,
   "id": "9495fe59-a0a1-40ee-87f4-15266af4aef9",
   "metadata": {},
   "outputs": [],
   "source": []
  }
 ],
 "metadata": {
  "kernelspec": {
   "display_name": "Python 3 (ipykernel)",
   "language": "python",
   "name": "python3"
  },
  "language_info": {
   "codemirror_mode": {
    "name": "ipython",
    "version": 3
   },
   "file_extension": ".py",
   "mimetype": "text/x-python",
   "name": "python",
   "nbconvert_exporter": "python",
   "pygments_lexer": "ipython3",
   "version": "3.10.12"
  }
 },
 "nbformat": 4,
 "nbformat_minor": 5
}
