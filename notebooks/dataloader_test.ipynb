{
 "cells": [
  {
   "cell_type": "code",
   "execution_count": 1,
   "id": "dceb7c2c-2543-4546-b0a1-468b98e8eee7",
   "metadata": {
    "execution": {
     "iopub.execute_input": "2023-11-05T23:43:02.312012Z",
     "iopub.status.busy": "2023-11-05T23:43:02.311537Z",
     "iopub.status.idle": "2023-11-05T23:43:12.244626Z",
     "shell.execute_reply": "2023-11-05T23:43:12.243569Z",
     "shell.execute_reply.started": "2023-11-05T23:43:02.311979Z"
    }
   },
   "outputs": [],
   "source": [
    "import sys\n",
    "from tqdm.notebook import trange, tqdm\n",
    "sys.path.append('../')\n",
    "from nntools.utils import Config\n",
    "import logging\n",
    "from data.datamodule import (\n",
    "    ALL_CLASSES,\n",
    "    ALL_DATASETS,\n",
    "    FundusSegmentationDatamodule,\n",
    ")\n",
    "\n",
    "logging.basicConfig(level=logging.WARNING)\n"
   ]
  },
  {
   "cell_type": "code",
   "execution_count": 2,
   "id": "fd4aefed-1632-4e74-94d0-492f2e332deb",
   "metadata": {
    "execution": {
     "iopub.execute_input": "2023-11-05T23:43:12.246510Z",
     "iopub.status.busy": "2023-11-05T23:43:12.246064Z",
     "iopub.status.idle": "2023-11-05T23:43:13.729984Z",
     "shell.execute_reply": "2023-11-05T23:43:13.729231Z",
     "shell.execute_reply.started": "2023-11-05T23:43:12.246479Z"
    }
   },
   "outputs": [
    {
     "name": "stderr",
     "output_type": "stream",
     "text": [
      "WARNING:root:Mismatch between the size of the different input folders (longer 54, smaller 26)\n",
      "WARNING:root:Upsampling missing labels to fit the dataset's size (54)\n",
      "WARNING:root:Mismatch between the size of the different input folders (longer 1593, smaller 471)\n",
      "WARNING:root:Upsampling missing labels to fit the dataset's size (1593)\n",
      "WARNING:root:Mismatch between the size of the different input folders (longer 27, smaller 14)\n",
      "WARNING:root:Upsampling missing labels to fit the dataset's size (27)\n",
      "WARNING:root:Mismatch between the size of the different input folders (longer 1593, smaller 471)\n",
      "WARNING:root:Upsampling missing labels to fit the dataset's size (1593)\n"
     ]
    }
   ],
   "source": [
    "datasets = ALL_DATASETS\n",
    "config_file = \"../configs/config.yaml\"\n",
    "config = Config(config_file)\n",
    "config_data = Config(\"../configs/data_config.yaml\")\n",
    "fundus_datamodule = FundusSegmentationDatamodule(\n",
    "    datasets=datasets, data_config=config_data, **config[\"data\"]\n",
    ")\n",
    "\n",
    "fundus_datamodule.setup(\"fit\")\n",
    "fundus_datamodule.setup(\"test\")"
   ]
  },
  {
   "cell_type": "code",
   "execution_count": 3,
   "id": "4e852f45-8ef7-4c49-ac3d-81004dcc52c7",
   "metadata": {
    "execution": {
     "iopub.execute_input": "2023-11-05T23:43:13.731609Z",
     "iopub.status.busy": "2023-11-05T23:43:13.731133Z",
     "iopub.status.idle": "2023-11-05T23:43:13.735209Z",
     "shell.execute_reply": "2023-11-05T23:43:13.734194Z",
     "shell.execute_reply.started": "2023-11-05T23:43:13.731578Z"
    }
   },
   "outputs": [],
   "source": [
    "dataset = fundus_datamodule.train"
   ]
  },
  {
   "cell_type": "code",
   "execution_count": null,
   "id": "3ea49885-4eec-41d4-a862-cb7612697e56",
   "metadata": {
    "execution": {
     "iopub.execute_input": "2023-11-05T23:43:13.737063Z",
     "iopub.status.busy": "2023-11-05T23:43:13.736449Z"
    },
    "scrolled": true
   },
   "outputs": [
    {
     "name": "stdout",
     "output_type": "stream",
     "text": [
      "0\n",
      "1\n",
      "2\n",
      "3\n",
      "4\n",
      "5\n",
      "6\n",
      "7\n",
      "8\n",
      "9\n",
      "10\n",
      "11\n",
      "12\n",
      "13\n",
      "14\n",
      "15\n",
      "16\n",
      "17\n",
      "18\n",
      "19\n",
      "20\n",
      "21\n",
      "22\n",
      "23\n",
      "24\n",
      "25\n",
      "26\n",
      "27\n",
      "28\n",
      "29\n",
      "30\n",
      "31\n",
      "32\n",
      "33\n",
      "34\n",
      "35\n",
      "36\n",
      "37\n",
      "38\n",
      "39\n",
      "40\n",
      "41\n",
      "42\n",
      "43\n",
      "44\n",
      "45\n",
      "46\n",
      "47\n",
      "48\n",
      "49\n",
      "50\n",
      "51\n",
      "52\n",
      "53\n",
      "54\n",
      "55\n",
      "56\n",
      "57\n",
      "58\n",
      "59\n",
      "60\n",
      "61\n",
      "62\n",
      "63\n",
      "64\n",
      "65\n",
      "66\n",
      "67\n",
      "68\n",
      "69\n",
      "70\n",
      "71\n",
      "72\n",
      "73\n",
      "74\n",
      "75\n",
      "76\n",
      "77\n",
      "78\n",
      "79\n",
      "80\n",
      "81\n",
      "82\n",
      "83\n",
      "84\n",
      "85\n",
      "86\n",
      "87\n",
      "88\n",
      "89\n",
      "90\n",
      "91\n",
      "92\n",
      "93\n",
      "94\n",
      "95\n",
      "96\n",
      "97\n",
      "98\n",
      "99\n",
      "100\n",
      "101\n",
      "102\n",
      "103\n",
      "104\n",
      "105\n",
      "106\n",
      "107\n",
      "108\n",
      "109\n",
      "110\n",
      "111\n",
      "112\n",
      "113\n",
      "114\n",
      "115\n"
     ]
    }
   ],
   "source": [
    "for i, b in enumerate(dataset):\n",
    "    print(i)"
   ]
  },
  {
   "cell_type": "code",
   "execution_count": null,
   "id": "d1dfcf7f-01ed-45ab-8bde-251b1629193b",
   "metadata": {},
   "outputs": [],
   "source": []
  }
 ],
 "metadata": {
  "kernelspec": {
   "display_name": "Python 3 (ipykernel)",
   "language": "python",
   "name": "python3"
  },
  "language_info": {
   "codemirror_mode": {
    "name": "ipython",
    "version": 3
   },
   "file_extension": ".py",
   "mimetype": "text/x-python",
   "name": "python",
   "nbconvert_exporter": "python",
   "pygments_lexer": "ipython3",
   "version": "3.9.18"
  }
 },
 "nbformat": 4,
 "nbformat_minor": 5
}
