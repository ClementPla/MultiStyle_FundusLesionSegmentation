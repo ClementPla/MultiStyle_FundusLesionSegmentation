{
 "cells": [
  {
   "cell_type": "code",
   "execution_count": 1,
   "id": "dceb7c2c-2543-4546-b0a1-468b98e8eee7",
   "metadata": {
    "execution": {
     "iopub.execute_input": "2023-11-05T23:43:02.312012Z",
     "iopub.status.busy": "2023-11-05T23:43:02.311537Z",
     "iopub.status.idle": "2023-11-05T23:43:12.244626Z",
     "shell.execute_reply": "2023-11-05T23:43:12.243569Z",
     "shell.execute_reply.started": "2023-11-05T23:43:02.311979Z"
    }
   },
   "outputs": [],
   "source": [
    "%load_ext autoreload\n",
    "%autoreload 2"
   ]
  },
  {
   "cell_type": "code",
   "execution_count": 2,
   "id": "7b5f4890",
   "metadata": {},
   "outputs": [],
   "source": [
    "from fundus_data_toolkit.datamodules import SEG_PATHS, register_paths, Task\n",
    "from fundseg.data.data_factory import get_datamodule, ALL_DATASETS, get_datamodule_from_config\n",
    "from nntools.utils import Config\n",
    "from tqdm.notebook import tqdm"
   ]
  },
  {
   "cell_type": "code",
   "execution_count": 3,
   "id": "fd4aefed-1632-4e74-94d0-492f2e332deb",
   "metadata": {
    "execution": {
     "iopub.execute_input": "2023-11-05T23:43:12.246510Z",
     "iopub.status.busy": "2023-11-05T23:43:12.246064Z",
     "iopub.status.idle": "2023-11-05T23:43:13.729984Z",
     "shell.execute_reply": "2023-11-05T23:43:13.729231Z",
     "shell.execute_reply.started": "2023-11-05T23:43:12.246479Z"
    }
   },
   "outputs": [
    {
     "name": "stderr",
     "output_type": "stream",
     "text": [
      "WARNING:root:Mismatch between the size of the different input folders (longer 54, smaller 26)\n",
      "WARNING:root:Upsampling missing labels to fit the dataset's size (54)\n",
      "WARNING:root:Mismatch between the size of the different input folders (longer 54, smaller 26)\n",
      "WARNING:root:Upsampling missing labels to fit the dataset's size (54)\n",
      "WARNING:root:Mismatch between the size of the different input folders (longer 27, smaller 14)\n",
      "WARNING:root:Upsampling missing labels to fit the dataset's size (27)\n"
     ]
    },
    {
     "name": "stderr",
     "output_type": "stream",
     "text": [
      "WARNING:root:Mismatch between the size of the different input folders (longer 1842, smaller 49)\n",
      "WARNING:root:Upsampling missing labels to fit the dataset's size (1842)\n",
      "WARNING:root:Mismatch between the size of the different input folders (longer 1842, smaller 49)\n",
      "WARNING:root:Upsampling missing labels to fit the dataset's size (1842)\n",
      "WARNING:root:Mismatch between the size of the different input folders (longer 1842, smaller 49)\n",
      "WARNING:root:Upsampling missing labels to fit the dataset's size (1842)\n",
      "WARNING:root:Mismatch between the size of the different input folders (longer 1593, smaller 13)\n",
      "WARNING:root:Upsampling missing labels to fit the dataset's size (1593)\n",
      "WARNING:root:Mismatch between the size of the different input folders (longer 1593, smaller 13)\n",
      "WARNING:root:Upsampling missing labels to fit the dataset's size (1593)\n",
      "WARNING:root:Mismatch between the size of the different input folders (longer 1593, smaller 13)\n",
      "WARNING:root:Upsampling missing labels to fit the dataset's size (1593)\n"
     ]
    }
   ],
   "source": [
    "config = Config('../configs/config.yaml')\n",
    "\n",
    "\n",
    "datasets = ['MESSIDOR', 'IDRID', 'RETLES', 'DDR', 'FGADR']\n",
    "config['data'][\"data_augmentation_type\"] = \"default\"\n",
    "datamodule = get_datamodule_from_config(config['datasets'], datasets, config['data'])\n",
    "\n",
    "dataloader = datamodule.train_dataloader()\n",
    "# for i, batch in enumerate(tqdm(dataloader, total=len(dataloader))):\n",
    "#     pass"
   ]
  },
  {
   "cell_type": "code",
   "execution_count": 4,
   "id": "9a8d3739",
   "metadata": {},
   "outputs": [],
   "source": [
    "# _ = datamodule.train.get_mosaic(9, shuffle=True, show=True)\n"
   ]
  },
  {
   "cell_type": "code",
   "execution_count": null,
   "id": "4e852f45-8ef7-4c49-ac3d-81004dcc52c7",
   "metadata": {
    "execution": {
     "iopub.execute_input": "2023-11-05T23:43:13.731609Z",
     "iopub.status.busy": "2023-11-05T23:43:13.731133Z",
     "iopub.status.idle": "2023-11-05T23:43:13.735209Z",
     "shell.execute_reply": "2023-11-05T23:43:13.734194Z",
     "shell.execute_reply.started": "2023-11-05T23:43:13.731578Z"
    }
   },
   "outputs": [],
   "source": []
  },
  {
   "cell_type": "code",
   "execution_count": 5,
   "id": "d1dfcf7f-01ed-45ab-8bde-251b1629193b",
   "metadata": {},
   "outputs": [
    {
     "data": {
      "application/vnd.jupyter.widget-view+json": {
       "model_id": "686addc9edf74fc4835c5986973652be",
       "version_major": 2,
       "version_minor": 0
      },
      "text/plain": [
       "  0%|          | 0/181 [00:00<?, ?it/s]"
      ]
     },
     "metadata": {},
     "output_type": "display_data"
    },
    {
     "name": "stdout",
     "output_type": "stream",
     "text": [
      "torch.Size([16, 3, 512, 512]) torch.Size([16, 512, 512]) torch.Size([16, 512, 512])\n",
      "torch.Size([16, 3, 512, 512]) torch.Size([16, 512, 512]) torch.Size([16, 512, 512])\n",
      "torch.Size([16, 3, 512, 512]) torch.Size([16, 512, 512]) torch.Size([16, 512, 512])\n",
      "torch.Size([16, 3, 512, 512]) torch.Size([16, 512, 512]) torch.Size([16, 512, 512])\n",
      "torch.Size([16, 3, 512, 512]) torch.Size([16, 512, 512]) torch.Size([16, 512, 512])\n",
      "torch.Size([16, 3, 512, 512]) torch.Size([16, 512, 512]) torch.Size([16, 512, 512])\n",
      "torch.Size([16, 3, 512, 512]) torch.Size([16, 512, 512]) torch.Size([16, 512, 512])\n",
      "torch.Size([16, 3, 512, 512]) torch.Size([16, 512, 512]) torch.Size([16, 512, 512])\n",
      "torch.Size([16, 3, 512, 512]) torch.Size([16, 512, 512]) torch.Size([16, 512, 512])\n",
      "torch.Size([16, 3, 512, 512]) torch.Size([16, 512, 512]) torch.Size([16, 512, 512])\n",
      "torch.Size([16, 3, 512, 512]) torch.Size([16, 512, 512]) torch.Size([16, 512, 512])\n",
      "torch.Size([16, 3, 512, 512]) torch.Size([16, 512, 512]) torch.Size([16, 512, 512])\n",
      "torch.Size([16, 3, 512, 512]) torch.Size([16, 512, 512]) torch.Size([16, 512, 512])\n",
      "torch.Size([16, 3, 512, 512]) torch.Size([16, 512, 512]) torch.Size([16, 512, 512])\n",
      "torch.Size([16, 3, 512, 512]) torch.Size([16, 512, 512]) torch.Size([16, 512, 512])\n",
      "torch.Size([16, 3, 512, 512]) torch.Size([16, 512, 512]) torch.Size([16, 512, 512])\n",
      "torch.Size([16, 3, 512, 512]) torch.Size([16, 512, 512]) torch.Size([16, 512, 512])\n",
      "torch.Size([16, 3, 512, 512]) torch.Size([16, 512, 512]) torch.Size([16, 512, 512])\n",
      "torch.Size([16, 3, 512, 512]) torch.Size([16, 512, 512]) torch.Size([16, 512, 512])\n",
      "torch.Size([16, 3, 512, 512]) torch.Size([16, 512, 512]) torch.Size([16, 512, 512])\n",
      "torch.Size([16, 3, 512, 512]) torch.Size([16, 512, 512]) torch.Size([16, 512, 512])\n",
      "torch.Size([16, 3, 512, 512]) torch.Size([16, 512, 512]) torch.Size([16, 512, 512])\n",
      "torch.Size([16, 3, 512, 512]) torch.Size([16, 512, 512]) torch.Size([16, 512, 512])\n",
      "torch.Size([16, 3, 512, 512]) torch.Size([16, 512, 512]) torch.Size([16, 512, 512])\n",
      "torch.Size([16, 3, 512, 512]) torch.Size([16, 512, 512]) torch.Size([16, 512, 512])\n",
      "torch.Size([16, 3, 512, 512]) torch.Size([16, 512, 512]) torch.Size([16, 512, 512])\n",
      "torch.Size([16, 3, 512, 512]) torch.Size([16, 512, 512]) torch.Size([16, 512, 512])\n",
      "torch.Size([16, 3, 512, 512]) torch.Size([16, 512, 512]) torch.Size([16, 512, 512])\n",
      "torch.Size([16, 3, 512, 512]) torch.Size([16, 512, 512]) torch.Size([16, 512, 512])\n",
      "torch.Size([16, 3, 512, 512]) torch.Size([16, 512, 512]) torch.Size([16, 512, 512])\n",
      "torch.Size([16, 3, 512, 512]) torch.Size([16, 512, 512]) torch.Size([16, 512, 512])\n",
      "torch.Size([16, 3, 512, 512]) torch.Size([16, 512, 512]) torch.Size([16, 512, 512])\n",
      "torch.Size([16, 3, 512, 512]) torch.Size([16, 512, 512]) torch.Size([16, 512, 512])\n",
      "torch.Size([16, 3, 512, 512]) torch.Size([16, 512, 512]) torch.Size([16, 512, 512])\n",
      "torch.Size([16, 3, 512, 512]) torch.Size([16, 512, 512]) torch.Size([16, 512, 512])\n",
      "torch.Size([16, 3, 512, 512]) torch.Size([16, 512, 512]) torch.Size([16, 512, 512])\n",
      "torch.Size([16, 3, 512, 512]) torch.Size([16, 512, 512]) torch.Size([16, 512, 512])\n",
      "torch.Size([16, 3, 512, 512]) torch.Size([16, 512, 512]) torch.Size([16, 512, 512])\n",
      "torch.Size([16, 3, 512, 512]) torch.Size([16, 512, 512]) torch.Size([16, 512, 512])\n",
      "torch.Size([16, 3, 512, 512]) torch.Size([16, 512, 512]) torch.Size([16, 512, 512])\n",
      "torch.Size([16, 3, 512, 512]) torch.Size([16, 512, 512]) torch.Size([16, 512, 512])\n",
      "torch.Size([16, 3, 512, 512]) torch.Size([16, 512, 512]) torch.Size([16, 512, 512])\n",
      "torch.Size([16, 3, 512, 512]) torch.Size([16, 512, 512]) torch.Size([16, 512, 512])\n",
      "torch.Size([16, 3, 512, 512]) torch.Size([16, 512, 512]) torch.Size([16, 512, 512])\n",
      "torch.Size([16, 3, 512, 512]) torch.Size([16, 512, 512]) torch.Size([16, 512, 512])\n",
      "torch.Size([16, 3, 512, 512]) torch.Size([16, 512, 512]) torch.Size([16, 512, 512])\n",
      "torch.Size([16, 3, 512, 512]) torch.Size([16, 512, 512]) torch.Size([16, 512, 512])\n",
      "torch.Size([16, 3, 512, 512]) torch.Size([16, 512, 512]) torch.Size([16, 512, 512])\n",
      "torch.Size([16, 3, 512, 512]) torch.Size([16, 512, 512]) torch.Size([16, 512, 512])\n",
      "torch.Size([16, 3, 512, 512]) torch.Size([16, 512, 512]) torch.Size([16, 512, 512])\n",
      "torch.Size([16, 3, 512, 512]) torch.Size([16, 512, 512]) torch.Size([16, 512, 512])\n",
      "torch.Size([16, 3, 512, 512]) torch.Size([16, 512, 512]) torch.Size([16, 512, 512])\n",
      "torch.Size([16, 3, 512, 512]) torch.Size([16, 512, 512]) torch.Size([16, 512, 512])\n",
      "torch.Size([16, 3, 512, 512]) torch.Size([16, 512, 512]) torch.Size([16, 512, 512])\n",
      "torch.Size([16, 3, 512, 512]) torch.Size([16, 512, 512]) torch.Size([16, 512, 512])\n",
      "torch.Size([16, 3, 512, 512]) torch.Size([16, 512, 512]) torch.Size([16, 512, 512])\n",
      "torch.Size([16, 3, 512, 512]) torch.Size([16, 512, 512]) torch.Size([16, 512, 512])\n",
      "torch.Size([16, 3, 512, 512]) torch.Size([16, 512, 512]) torch.Size([16, 512, 512])\n",
      "torch.Size([16, 3, 512, 512]) torch.Size([16, 512, 512]) torch.Size([16, 512, 512])\n",
      "torch.Size([16, 3, 512, 512]) torch.Size([16, 512, 512]) torch.Size([16, 512, 512])\n",
      "torch.Size([16, 3, 512, 512]) torch.Size([16, 512, 512]) torch.Size([16, 512, 512])\n",
      "torch.Size([16, 3, 512, 512]) torch.Size([16, 512, 512]) torch.Size([16, 512, 512])\n",
      "torch.Size([16, 3, 512, 512]) torch.Size([16, 512, 512]) torch.Size([16, 512, 512])\n",
      "torch.Size([16, 3, 512, 512]) torch.Size([16, 512, 512]) torch.Size([16, 512, 512])\n",
      "torch.Size([16, 3, 512, 512]) torch.Size([16, 512, 512]) torch.Size([16, 512, 512])\n",
      "torch.Size([16, 3, 512, 512]) torch.Size([16, 512, 512]) torch.Size([16, 512, 512])\n",
      "torch.Size([16, 3, 512, 512]) torch.Size([16, 512, 512]) torch.Size([16, 512, 512])\n",
      "torch.Size([16, 3, 512, 512]) torch.Size([16, 512, 512]) torch.Size([16, 512, 512])\n",
      "torch.Size([16, 3, 512, 512]) torch.Size([16, 512, 512]) torch.Size([16, 512, 512])\n",
      "torch.Size([16, 3, 512, 512]) torch.Size([16, 512, 512]) torch.Size([16, 512, 512])\n",
      "torch.Size([16, 3, 512, 512]) torch.Size([16, 512, 512]) torch.Size([16, 512, 512])\n",
      "torch.Size([16, 3, 512, 512]) torch.Size([16, 512, 512]) torch.Size([16, 512, 512])\n",
      "torch.Size([16, 3, 512, 512]) torch.Size([16, 512, 512]) torch.Size([16, 512, 512])\n",
      "torch.Size([16, 3, 512, 512]) torch.Size([16, 512, 512]) torch.Size([16, 512, 512])\n",
      "torch.Size([16, 3, 512, 512]) torch.Size([16, 512, 512]) torch.Size([16, 512, 512])\n",
      "torch.Size([16, 3, 512, 512]) torch.Size([16, 512, 512]) torch.Size([16, 512, 512])\n",
      "torch.Size([16, 3, 512, 512]) torch.Size([16, 512, 512]) torch.Size([16, 512, 512])\n",
      "torch.Size([16, 3, 512, 512]) torch.Size([16, 512, 512]) torch.Size([16, 512, 512])\n",
      "torch.Size([16, 3, 512, 512]) torch.Size([16, 512, 512]) torch.Size([16, 512, 512])\n",
      "torch.Size([16, 3, 512, 512]) torch.Size([16, 512, 512]) torch.Size([16, 512, 512])\n",
      "torch.Size([16, 3, 512, 512]) torch.Size([16, 512, 512]) torch.Size([16, 512, 512])\n",
      "torch.Size([16, 3, 512, 512]) torch.Size([16, 512, 512]) torch.Size([16, 512, 512])\n",
      "torch.Size([16, 3, 512, 512]) torch.Size([16, 512, 512]) torch.Size([16, 512, 512])\n",
      "torch.Size([16, 3, 512, 512]) torch.Size([16, 512, 512]) torch.Size([16, 512, 512])\n",
      "torch.Size([16, 3, 512, 512]) torch.Size([16, 512, 512]) torch.Size([16, 512, 512])\n",
      "torch.Size([16, 3, 512, 512]) torch.Size([16, 512, 512]) torch.Size([16, 512, 512])\n",
      "torch.Size([16, 3, 512, 512]) torch.Size([16, 512, 512]) torch.Size([16, 512, 512])\n",
      "torch.Size([16, 3, 512, 512]) torch.Size([16, 512, 512]) torch.Size([16, 512, 512])\n",
      "torch.Size([16, 3, 512, 512]) torch.Size([16, 512, 512]) torch.Size([16, 512, 512])\n",
      "torch.Size([16, 3, 512, 512]) torch.Size([16, 512, 512]) torch.Size([16, 512, 512])\n",
      "torch.Size([16, 3, 512, 512]) torch.Size([16, 512, 512]) torch.Size([16, 512, 512])\n",
      "torch.Size([16, 3, 512, 512]) torch.Size([16, 512, 512]) torch.Size([16, 512, 512])\n",
      "torch.Size([16, 3, 512, 512]) torch.Size([16, 512, 512]) torch.Size([16, 512, 512])\n",
      "torch.Size([16, 3, 512, 512]) torch.Size([16, 512, 512]) torch.Size([16, 512, 512])\n",
      "torch.Size([16, 3, 512, 512]) torch.Size([16, 512, 512]) torch.Size([16, 512, 512])\n",
      "torch.Size([16, 3, 512, 512]) torch.Size([16, 512, 512]) torch.Size([16, 512, 512])\n",
      "torch.Size([16, 3, 512, 512]) torch.Size([16, 512, 512]) torch.Size([16, 512, 512])\n",
      "torch.Size([16, 3, 512, 512]) torch.Size([16, 512, 512]) torch.Size([16, 512, 512])\n",
      "torch.Size([16, 3, 512, 512]) torch.Size([16, 512, 512]) torch.Size([16, 512, 512])\n",
      "torch.Size([16, 3, 512, 512]) torch.Size([16, 512, 512]) torch.Size([16, 512, 512])\n",
      "torch.Size([16, 3, 512, 512]) torch.Size([16, 512, 512]) torch.Size([16, 512, 512])\n",
      "torch.Size([16, 3, 512, 512]) torch.Size([16, 512, 512]) torch.Size([16, 512, 512])\n",
      "torch.Size([16, 3, 512, 512]) torch.Size([16, 512, 512]) torch.Size([16, 512, 512])\n",
      "torch.Size([16, 3, 512, 512]) torch.Size([16, 512, 512]) torch.Size([16, 512, 512])\n",
      "torch.Size([16, 3, 512, 512]) torch.Size([16, 512, 512]) torch.Size([16, 512, 512])\n",
      "torch.Size([16, 3, 512, 512]) torch.Size([16, 512, 512]) torch.Size([16, 512, 512])\n",
      "torch.Size([16, 3, 512, 512]) torch.Size([16, 512, 512]) torch.Size([16, 512, 512])\n",
      "torch.Size([16, 3, 512, 512]) torch.Size([16, 512, 512]) torch.Size([16, 512, 512])\n",
      "torch.Size([16, 3, 512, 512]) torch.Size([16, 512, 512]) torch.Size([16, 512, 512])\n",
      "torch.Size([16, 3, 512, 512]) torch.Size([16, 512, 512]) torch.Size([16, 512, 512])\n",
      "torch.Size([16, 3, 512, 512]) torch.Size([16, 512, 512]) torch.Size([16, 512, 512])\n",
      "torch.Size([16, 3, 512, 512]) torch.Size([16, 512, 512]) torch.Size([16, 512, 512])\n",
      "torch.Size([16, 3, 512, 512]) torch.Size([16, 512, 512]) torch.Size([16, 512, 512])\n",
      "torch.Size([16, 3, 512, 512]) torch.Size([16, 512, 512]) torch.Size([16, 512, 512])\n",
      "torch.Size([16, 3, 512, 512]) torch.Size([16, 512, 512]) torch.Size([16, 512, 512])\n",
      "torch.Size([16, 3, 512, 512]) torch.Size([16, 512, 512]) torch.Size([16, 512, 512])\n",
      "torch.Size([16, 3, 512, 512]) torch.Size([16, 512, 512]) torch.Size([16, 512, 512])\n",
      "torch.Size([16, 3, 512, 512]) torch.Size([16, 512, 512]) torch.Size([16, 512, 512])\n",
      "torch.Size([16, 3, 512, 512]) torch.Size([16, 512, 512]) torch.Size([16, 512, 512])\n",
      "torch.Size([16, 3, 512, 512]) torch.Size([16, 512, 512]) torch.Size([16, 512, 512])\n",
      "torch.Size([16, 3, 512, 512]) torch.Size([16, 512, 512]) torch.Size([16, 512, 512])\n",
      "torch.Size([16, 3, 512, 512]) torch.Size([16, 512, 512]) torch.Size([16, 512, 512])\n",
      "torch.Size([16, 3, 512, 512]) torch.Size([16, 512, 512]) torch.Size([16, 512, 512])\n",
      "torch.Size([16, 3, 512, 512]) torch.Size([16, 512, 512]) torch.Size([16, 512, 512])\n",
      "torch.Size([16, 3, 512, 512]) torch.Size([16, 512, 512]) torch.Size([16, 512, 512])\n",
      "torch.Size([16, 3, 512, 512]) torch.Size([16, 512, 512]) torch.Size([16, 512, 512])\n",
      "torch.Size([16, 3, 512, 512]) torch.Size([16, 512, 512]) torch.Size([16, 512, 512])\n",
      "torch.Size([16, 3, 512, 512]) torch.Size([16, 512, 512]) torch.Size([16, 512, 512])\n",
      "torch.Size([16, 3, 512, 512]) torch.Size([16, 512, 512]) torch.Size([16, 512, 512])\n",
      "torch.Size([16, 3, 512, 512]) torch.Size([16, 512, 512]) torch.Size([16, 512, 512])\n",
      "torch.Size([16, 3, 512, 512]) torch.Size([16, 512, 512]) torch.Size([16, 512, 512])\n",
      "torch.Size([16, 3, 512, 512]) torch.Size([16, 512, 512]) torch.Size([16, 512, 512])\n",
      "torch.Size([16, 3, 512, 512]) torch.Size([16, 512, 512]) torch.Size([16, 512, 512])\n",
      "torch.Size([16, 3, 512, 512]) torch.Size([16, 512, 512]) torch.Size([16, 512, 512])\n",
      "torch.Size([16, 3, 512, 512]) torch.Size([16, 512, 512]) torch.Size([16, 512, 512])\n",
      "torch.Size([16, 3, 512, 512]) torch.Size([16, 512, 512]) torch.Size([16, 512, 512])\n",
      "torch.Size([16, 3, 512, 512]) torch.Size([16, 512, 512]) torch.Size([16, 512, 512])\n",
      "torch.Size([16, 3, 512, 512]) torch.Size([16, 512, 512]) torch.Size([16, 512, 512])\n",
      "torch.Size([16, 3, 512, 512]) torch.Size([16, 512, 512]) torch.Size([16, 512, 512])\n",
      "torch.Size([16, 3, 512, 512]) torch.Size([16, 512, 512]) torch.Size([16, 512, 512])\n",
      "torch.Size([16, 3, 512, 512]) torch.Size([16, 512, 512]) torch.Size([16, 512, 512])\n",
      "torch.Size([16, 3, 512, 512]) torch.Size([16, 512, 512]) torch.Size([16, 512, 512])\n",
      "torch.Size([16, 3, 512, 512]) torch.Size([16, 512, 512]) torch.Size([16, 512, 512])\n",
      "torch.Size([16, 3, 512, 512]) torch.Size([16, 512, 512]) torch.Size([16, 512, 512])\n",
      "torch.Size([16, 3, 512, 512]) torch.Size([16, 512, 512]) torch.Size([16, 512, 512])\n",
      "torch.Size([16, 3, 512, 512]) torch.Size([16, 512, 512]) torch.Size([16, 512, 512])\n",
      "torch.Size([16, 3, 512, 512]) torch.Size([16, 512, 512]) torch.Size([16, 512, 512])\n",
      "torch.Size([16, 3, 512, 512]) torch.Size([16, 512, 512]) torch.Size([16, 512, 512])\n",
      "torch.Size([16, 3, 512, 512]) torch.Size([16, 512, 512]) torch.Size([16, 512, 512])\n",
      "torch.Size([16, 3, 512, 512]) torch.Size([16, 512, 512]) torch.Size([16, 512, 512])\n",
      "torch.Size([16, 3, 512, 512]) torch.Size([16, 512, 512]) torch.Size([16, 512, 512])\n",
      "torch.Size([16, 3, 512, 512]) torch.Size([16, 512, 512]) torch.Size([16, 512, 512])\n",
      "torch.Size([16, 3, 512, 512]) torch.Size([16, 512, 512]) torch.Size([16, 512, 512])\n",
      "torch.Size([16, 3, 512, 512]) torch.Size([16, 512, 512]) torch.Size([16, 512, 512])\n",
      "torch.Size([16, 3, 512, 512]) torch.Size([16, 512, 512]) torch.Size([16, 512, 512])\n",
      "torch.Size([16, 3, 512, 512]) torch.Size([16, 512, 512]) torch.Size([16, 512, 512])\n",
      "torch.Size([16, 3, 512, 512]) torch.Size([16, 512, 512]) torch.Size([16, 512, 512])\n",
      "torch.Size([16, 3, 512, 512]) torch.Size([16, 512, 512]) torch.Size([16, 512, 512])\n",
      "torch.Size([16, 3, 512, 512]) torch.Size([16, 512, 512]) torch.Size([16, 512, 512])\n",
      "torch.Size([16, 3, 512, 512]) torch.Size([16, 512, 512]) torch.Size([16, 512, 512])\n",
      "torch.Size([16, 3, 512, 512]) torch.Size([16, 512, 512]) torch.Size([16, 512, 512])\n",
      "torch.Size([16, 3, 512, 512]) torch.Size([16, 512, 512]) torch.Size([16, 512, 512])\n",
      "torch.Size([16, 3, 512, 512]) torch.Size([16, 512, 512]) torch.Size([16, 512, 512])\n",
      "torch.Size([16, 3, 512, 512]) torch.Size([16, 512, 512]) torch.Size([16, 512, 512])\n",
      "torch.Size([16, 3, 512, 512]) torch.Size([16, 512, 512]) torch.Size([16, 512, 512])\n",
      "torch.Size([16, 3, 512, 512]) torch.Size([16, 512, 512]) torch.Size([16, 512, 512])\n",
      "torch.Size([16, 3, 512, 512]) torch.Size([16, 512, 512]) torch.Size([16, 512, 512])\n",
      "torch.Size([16, 3, 512, 512]) torch.Size([16, 512, 512]) torch.Size([16, 512, 512])\n",
      "torch.Size([16, 3, 512, 512]) torch.Size([16, 512, 512]) torch.Size([16, 512, 512])\n",
      "torch.Size([16, 3, 512, 512]) torch.Size([16, 512, 512]) torch.Size([16, 512, 512])\n",
      "torch.Size([16, 3, 512, 512]) torch.Size([16, 512, 512]) torch.Size([16, 512, 512])\n",
      "torch.Size([16, 3, 512, 512]) torch.Size([16, 512, 512]) torch.Size([16, 512, 512])\n",
      "torch.Size([16, 3, 512, 512]) torch.Size([16, 512, 512]) torch.Size([16, 512, 512])\n",
      "torch.Size([16, 3, 512, 512]) torch.Size([16, 512, 512]) torch.Size([16, 512, 512])\n",
      "torch.Size([16, 3, 512, 512]) torch.Size([16, 512, 512]) torch.Size([16, 512, 512])\n",
      "torch.Size([16, 3, 512, 512]) torch.Size([16, 512, 512]) torch.Size([16, 512, 512])\n",
      "torch.Size([16, 3, 512, 512]) torch.Size([16, 512, 512]) torch.Size([16, 512, 512])\n",
      "torch.Size([16, 3, 512, 512]) torch.Size([16, 512, 512]) torch.Size([16, 512, 512])\n",
      "torch.Size([16, 3, 512, 512]) torch.Size([16, 512, 512]) torch.Size([16, 512, 512])\n",
      "torch.Size([16, 3, 512, 512]) torch.Size([16, 512, 512]) torch.Size([16, 512, 512])\n",
      "torch.Size([3, 3, 512, 512]) torch.Size([3, 512, 512]) torch.Size([3, 512, 512])\n"
     ]
    }
   ],
   "source": [
    "dataloader = datamodule.train_dataloader()\n",
    "for i, batch in enumerate(tqdm(dataloader, total=len(dataloader))):\n",
    "    print(batch['image'].shape, batch['mask'].shape, batch['roi'].shape)"
   ]
  },
  {
   "cell_type": "code",
   "execution_count": 6,
   "id": "5381adaa",
   "metadata": {},
   "outputs": [],
   "source": [
    "# dataloader = datamodule.test_dataloader()\n",
    "# for i, batch in enumerate(tqdm(dataloader, total=len(dataloader))):\n",
    "#     pass"
   ]
  },
  {
   "cell_type": "code",
   "execution_count": 7,
   "id": "915a2788",
   "metadata": {},
   "outputs": [
    {
     "data": {
      "application/vnd.jupyter.widget-view+json": {
       "model_id": "9461ecc394014a7cbf9cc70e708a6256",
       "version_major": 2,
       "version_minor": 0
      },
      "text/plain": [
       "  0%|          | 0/37 [00:00<?, ?it/s]"
      ]
     },
     "metadata": {},
     "output_type": "display_data"
    },
    {
     "name": "stderr",
     "output_type": "stream",
     "text": [
      "Corrupt JPEG data: 36 extraneous bytes before marker 0xd9\n"
     ]
    },
    {
     "name": "stdout",
     "output_type": "stream",
     "text": [
      "torch.Size([16, 3, 1024, 1024]) torch.Size([16, 1024, 1024]) torch.Size([16, 1024, 1024])\n",
      "torch.Size([16, 3, 1024, 1024]) torch.Size([16, 1024, 1024]) torch.Size([16, 1024, 1024])\n",
      "torch.Size([16, 3, 1024, 1024]) torch.Size([16, 1024, 1024]) torch.Size([16, 1024, 1024])\n",
      "torch.Size([16, 3, 1024, 1024]) torch.Size([16, 1024, 1024]) torch.Size([16, 1024, 1024])\n",
      "torch.Size([16, 3, 1024, 1024]) torch.Size([16, 1024, 1024]) torch.Size([16, 1024, 1024])\n",
      "torch.Size([16, 3, 1024, 1024]) torch.Size([16, 1024, 1024]) torch.Size([16, 1024, 1024])\n",
      "torch.Size([16, 3, 1024, 1024]) torch.Size([16, 1024, 1024]) torch.Size([16, 1024, 1024])\n",
      "torch.Size([16, 3, 1024, 1024]) torch.Size([16, 1024, 1024]) torch.Size([16, 1024, 1024])\n",
      "torch.Size([16, 3, 1024, 1024]) torch.Size([16, 1024, 1024]) torch.Size([16, 1024, 1024])\n",
      "torch.Size([16, 3, 1024, 1024]) torch.Size([16, 1024, 1024]) torch.Size([16, 1024, 1024])\n",
      "torch.Size([16, 3, 1024, 1024]) torch.Size([16, 1024, 1024]) torch.Size([16, 1024, 1024])\n",
      "torch.Size([16, 3, 1024, 1024]) torch.Size([16, 1024, 1024]) torch.Size([16, 1024, 1024])\n",
      "torch.Size([16, 3, 1024, 1024]) torch.Size([16, 1024, 1024]) torch.Size([16, 1024, 1024])\n",
      "torch.Size([16, 3, 1024, 1024]) torch.Size([16, 1024, 1024]) torch.Size([16, 1024, 1024])\n",
      "torch.Size([16, 3, 1024, 1024]) torch.Size([16, 1024, 1024]) torch.Size([16, 1024, 1024])\n",
      "torch.Size([16, 3, 1024, 1024]) torch.Size([16, 1024, 1024]) torch.Size([16, 1024, 1024])\n",
      "torch.Size([16, 3, 1024, 1024]) torch.Size([16, 1024, 1024]) torch.Size([16, 1024, 1024])\n",
      "torch.Size([16, 3, 1024, 1024]) torch.Size([16, 1024, 1024]) torch.Size([16, 1024, 1024])\n",
      "torch.Size([16, 3, 1024, 1024]) torch.Size([16, 1024, 1024]) torch.Size([16, 1024, 1024])\n",
      "torch.Size([16, 3, 1024, 1024]) torch.Size([16, 1024, 1024]) torch.Size([16, 1024, 1024])\n",
      "torch.Size([16, 3, 1024, 1024]) torch.Size([16, 1024, 1024]) torch.Size([16, 1024, 1024])\n",
      "torch.Size([16, 3, 1024, 1024]) torch.Size([16, 1024, 1024]) torch.Size([16, 1024, 1024])\n",
      "torch.Size([16, 3, 1024, 1024]) torch.Size([16, 1024, 1024]) torch.Size([16, 1024, 1024])\n",
      "torch.Size([16, 3, 1024, 1024]) torch.Size([16, 1024, 1024]) torch.Size([16, 1024, 1024])\n",
      "torch.Size([16, 3, 1024, 1024]) torch.Size([16, 1024, 1024]) torch.Size([16, 1024, 1024])\n",
      "torch.Size([16, 3, 1024, 1024]) torch.Size([16, 1024, 1024]) torch.Size([16, 1024, 1024])\n",
      "torch.Size([16, 3, 1024, 1024]) torch.Size([16, 1024, 1024]) torch.Size([16, 1024, 1024])\n",
      "torch.Size([16, 3, 1024, 1024]) torch.Size([16, 1024, 1024]) torch.Size([16, 1024, 1024])\n",
      "torch.Size([16, 3, 1024, 1024]) torch.Size([16, 1024, 1024]) torch.Size([16, 1024, 1024])\n",
      "torch.Size([16, 3, 1024, 1024]) torch.Size([16, 1024, 1024]) torch.Size([16, 1024, 1024])\n",
      "torch.Size([16, 3, 1024, 1024]) torch.Size([16, 1024, 1024]) torch.Size([16, 1024, 1024])\n",
      "torch.Size([16, 3, 1024, 1024]) torch.Size([16, 1024, 1024]) torch.Size([16, 1024, 1024])\n",
      "torch.Size([16, 3, 1024, 1024]) torch.Size([16, 1024, 1024]) torch.Size([16, 1024, 1024])\n",
      "torch.Size([16, 3, 1024, 1024]) torch.Size([16, 1024, 1024]) torch.Size([16, 1024, 1024])\n",
      "torch.Size([16, 3, 1024, 1024]) torch.Size([16, 1024, 1024]) torch.Size([16, 1024, 1024])\n",
      "torch.Size([16, 3, 1024, 1024]) torch.Size([16, 1024, 1024]) torch.Size([16, 1024, 1024])\n",
      "torch.Size([12, 3, 1024, 1024]) torch.Size([12, 1024, 1024]) torch.Size([12, 1024, 1024])\n"
     ]
    }
   ],
   "source": [
    "dataloader = datamodule.val_dataloader()\n",
    "for i, batch in enumerate(tqdm(dataloader, total=len(dataloader))):\n",
    "    print(batch['image'].shape, batch['mask'].shape, batch['roi'].shape)"
   ]
  },
  {
   "cell_type": "code",
   "execution_count": 8,
   "id": "03204ec1",
   "metadata": {},
   "outputs": [
    {
     "data": {
      "application/vnd.jupyter.widget-view+json": {
       "model_id": "2d8accef95a149d48e0fee6458aab1d8",
       "version_major": 2,
       "version_minor": 0
      },
      "text/plain": [
       "  0%|          | 0/37 [00:00<?, ?it/s]"
      ]
     },
     "metadata": {},
     "output_type": "display_data"
    },
    {
     "ename": "",
     "evalue": "",
     "output_type": "error",
     "traceback": [
      "\u001b[1;31mThe Kernel crashed while executing code in the current cell or a previous cell. \n",
      "\u001b[1;31mPlease review the code in the cell(s) to identify a possible cause of the failure. \n",
      "\u001b[1;31mClick <a href='https://aka.ms/vscodeJupyterKernelCrash'>here</a> for more info. \n",
      "\u001b[1;31mView Jupyter <a href='command:jupyter.viewOutput'>log</a> for further details."
     ]
    }
   ],
   "source": [
    "for i, batch in enumerate(tqdm(dataloader, total=len(dataloader))):\n",
    "    pass"
   ]
  }
 ],
 "metadata": {
  "kernelspec": {
   "display_name": "Python 3 (ipykernel)",
   "language": "python",
   "name": "python3"
  },
  "language_info": {
   "codemirror_mode": {
    "name": "ipython",
    "version": 3
   },
   "file_extension": ".py",
   "mimetype": "text/x-python",
   "name": "python",
   "nbconvert_exporter": "python",
   "pygments_lexer": "ipython3",
   "version": "3.12.3"
  }
 },
 "nbformat": 4,
 "nbformat_minor": 5
}
